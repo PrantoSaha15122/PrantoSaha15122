{
  "nbformat": 4,
  "nbformat_minor": 0,
  "metadata": {
    "colab": {
      "name": "practice1.ipynb",
      "provenance": [],
      "collapsed_sections": [],
      "authorship_tag": "ABX9TyPul65MmZ+UoEWtm3iiaQSc",
      "include_colab_link": true
    },
    "kernelspec": {
      "name": "python3",
      "display_name": "Python 3"
    },
    "language_info": {
      "name": "python"
    }
  },
  "cells": [
    {
      "cell_type": "markdown",
      "metadata": {
        "id": "view-in-github",
        "colab_type": "text"
      },
      "source": [
        "<a href=\"https://colab.research.google.com/github/PrantoSaha15122/PrantoSaha15122/blob/main/practice1.ipynb\" target=\"_parent\"><img src=\"https://colab.research.google.com/assets/colab-badge.svg\" alt=\"Open In Colab\"/></a>"
      ]
    },
    {
      "cell_type": "code",
      "execution_count": null,
      "metadata": {
        "colab": {
          "base_uri": "https://localhost:8080/"
        },
        "id": "PPWoTw-aX4Ll",
        "outputId": "20710c07-12b5-4eea-b01a-7a6169963881"
      },
      "outputs": [
        {
          "output_type": "stream",
          "name": "stdout",
          "text": [
            "hello, World!\n",
            "11\n",
            "z\n",
            "4\n",
            "3.0\n",
            "<class 'str'>\n",
            "<class 'float'>\n",
            "me\n",
            "she\n",
            "you\n",
            "you\n",
            "python is awesome\n",
            "pythonisawesome\n",
            "pythonisawesome\n",
            "good boy   pranto\n"
          ]
        }
      ],
      "source": [
        "print (\"hello, World!\")\n",
        "#print(\"hello, World!\")\n",
        "\"\"\" this is a comment\n",
        "\"\"\"\n",
        "x=5 #for intger value not to use \"\"/ then if we use then should be use \"sting\"\n",
        "y=6\n",
        "z=x+y\n",
        "print (z)\n",
        "print ('z') #if we write down in \"\"/' ' then it will print only the comment which one write down in \"\"/''\n",
        "m= str(4)\n",
        "n= str(6)\n",
        "o= float(3)\n",
        "print(m)\n",
        "print(o)\n",
        "print(type (m))\n",
        "print(type(o))\n",
        "my_variable_name='Jhon'#snake_case\n",
        "MyVariableName=\"Jhon\"#PascalCase\n",
        "myVariableName=\"Jhon\"#CamelCase\n",
        "#multipleVariable\n",
        "a,b,c=\"me\",\"she\",\"you\"\n",
        "print(a),print(b)\n",
        "print(c)\n",
        "pranto=['me','she','you']\n",
        "i,o,u=pranto\n",
        "print(u)\n",
        "x=\"python\"\n",
        "y=\"is\"\n",
        "z=\"awesome\"\n",
        "print(x,y,z) #always_accept_the_new_assign_value_in_variable \n",
        "print(x+y+z) #another way to confilt the variables\n",
        "print(x + y + z)\n",
        "#global variable\n",
        "x=\"pranto\"\n",
        "def myfunc():\n",
        "   print (\"good boy  \", x)\n",
        "myfunc()\n",
        "#problem doesn't work\n",
        "x=\"nice\"\n",
        "def myfunc():\n",
        "  x=\"cute\"\n",
        "  print(\"wow\" +x)\n",
        "  myfunc()\n",
        "  print(\"kind\",x)\n",
        "x= \"awesome\"\n",
        "def myfunc():\n",
        "  x=\"fantastic\"\n",
        "  print (\"python is\" +x)\n",
        "  myfunc()\n",
        "  print(\"python is \"+x)\n",
        "\n"
      ]
    },
    {
      "cell_type": "code",
      "source": [
        "x= \"awesome\"\n",
        "def myfunc():\n",
        "       x=\"fantastic\"\n",
        "       print (\"python is\" +x)\n",
        "myfunc()\n",
        "print(\"python is \"+x)\n",
        "\n",
        "def  yourfunc():\n",
        "      global x\n",
        "      x= \"kind\"\n",
        "yourfunc()\n",
        "print(\"you are \"+x)     "
      ],
      "metadata": {
        "colab": {
          "base_uri": "https://localhost:8080/"
        },
        "id": "eE3KtIGsbCMn",
        "outputId": "e8c317cf-a660-464d-f70e-b81ffb1797db"
      },
      "execution_count": null,
      "outputs": [
        {
          "output_type": "stream",
          "name": "stdout",
          "text": [
            "python isfantastic\n",
            "python is awesome\n",
            "you are kind\n"
          ]
        }
      ]
    },
    {
      "cell_type": "code",
      "source": [
        "x= \"nice\"\n",
        "def myfunc():\n",
        "     global x\n",
        "     x= \"kind\"\n",
        "myfunc()\n",
        "print ( \"you are \"+x)"
      ],
      "metadata": {
        "colab": {
          "base_uri": "https://localhost:8080/"
        },
        "id": "sDzDnYtsq9l9",
        "outputId": "9fd8fc55-eedf-4a99-852f-7a6edfe884cf"
      },
      "execution_count": null,
      "outputs": [
        {
          "output_type": "stream",
          "name": "stdout",
          "text": [
            "you are kind\n"
          ]
        }
      ]
    },
    {
      "cell_type": "code",
      "source": [
        "x,y,z= 'orange',\"apple\",\"banana\"\n",
        "print (y)"
      ],
      "metadata": {
        "colab": {
          "base_uri": "https://localhost:8080/"
        },
        "id": "k8KfL5SUC2id",
        "outputId": "1dd85533-baf4-4b06-90bd-dafc948400d0"
      },
      "execution_count": null,
      "outputs": [
        {
          "output_type": "stream",
          "name": "stdout",
          "text": [
            "apple\n"
          ]
        }
      ]
    },
    {
      "cell_type": "code",
      "source": [
        "x=(\"apple\",\"banana\",\"cherry\")\n",
        "print  x\n",
        "print(type(x))"
      ],
      "metadata": {
        "colab": {
          "base_uri": "https://localhost:8080/",
          "height": 131
        },
        "id": "OmZTC75zGVLB",
        "outputId": "3095c42f-26ed-4b93-8744-08b2b925ee1e"
      },
      "execution_count": null,
      "outputs": [
        {
          "output_type": "error",
          "ename": "SyntaxError",
          "evalue": "ignored",
          "traceback": [
            "\u001b[0;36m  File \u001b[0;32m\"<ipython-input-14-42c103a7f16c>\"\u001b[0;36m, line \u001b[0;32m2\u001b[0m\n\u001b[0;31m    print  x\u001b[0m\n\u001b[0m           ^\u001b[0m\n\u001b[0;31mSyntaxError\u001b[0m\u001b[0;31m:\u001b[0m Missing parentheses in call to 'print'. Did you mean print(x)?\n"
          ]
        }
      ]
    },
    {
      "cell_type": "code",
      "source": [
        ""
      ],
      "metadata": {
        "id": "yWDyscfTWy5F"
      },
      "execution_count": null,
      "outputs": []
    }
  ]
}